{
 "cells": [
  {
   "cell_type": "code",
   "execution_count": 10,
   "id": "eaa55a0f",
   "metadata": {},
   "outputs": [],
   "source": [
    "import pandas as pd\n",
    "import numpy as np"
   ]
  },
  {
   "cell_type": "code",
   "execution_count": 1,
   "id": "68b2334e",
   "metadata": {},
   "outputs": [
    {
     "name": "stdout",
     "output_type": "stream",
     "text": [
      "Connecting to the PostgreSQL database...\n"
     ]
    }
   ],
   "source": [
    "import psycopg2\n",
    "\n",
    "print(\"Connecting to the PostgreSQL database...\")"
   ]
  },
  {
   "cell_type": "code",
   "execution_count": 17,
   "id": "06c4059b",
   "metadata": {},
   "outputs": [
    {
     "name": "stdout",
     "output_type": "stream",
     "text": [
      "Connection successful!\n"
     ]
    }
   ],
   "source": [
    "# Establish a connection to the PostgreSQL database\n",
    "try:\n",
    "    connection = psycopg2.connect(\n",
    "        host=\"db.pqebyefuvarvwvwovchh.supabase.co\",\n",
    "        database=\"postgres\",\n",
    "        user=\"postgres\",\n",
    "        password=\"Hoangthinh@2004\"\n",
    "    )\n",
    "    cursor = connection.cursor()\n",
    "    print(\"Connection successful!\")\n",
    "except Exception as e:\n",
    "    print(f\"An error occurred: {e}\")"
   ]
  },
  {
   "cell_type": "code",
   "execution_count": 30,
   "id": "6f2dac0b",
   "metadata": {},
   "outputs": [
    {
     "data": {
      "application/vnd.microsoft.datawrangler.viewer.v0+json": {
       "columns": [
        {
         "name": "index",
         "rawType": "int64",
         "type": "integer"
        },
        {
         "name": "id",
         "rawType": "int64",
         "type": "integer"
        },
        {
         "name": "username",
         "rawType": "object",
         "type": "string"
        },
        {
         "name": "email",
         "rawType": "object",
         "type": "string"
        },
        {
         "name": "is_email_verified",
         "rawType": "bool",
         "type": "boolean"
        },
        {
         "name": "email_verified_at",
         "rawType": "object",
         "type": "unknown"
        },
        {
         "name": "phone_number",
         "rawType": "object",
         "type": "unknown"
        },
        {
         "name": "is_phone_verified",
         "rawType": "bool",
         "type": "boolean"
        },
        {
         "name": "phone_verified_at",
         "rawType": "object",
         "type": "unknown"
        },
        {
         "name": "password_hash",
         "rawType": "object",
         "type": "string"
        },
        {
         "name": "role_id",
         "rawType": "object",
         "type": "unknown"
        },
        {
         "name": "full_name",
         "rawType": "object",
         "type": "unknown"
        },
        {
         "name": "avatar_url",
         "rawType": "object",
         "type": "unknown"
        },
        {
         "name": "status",
         "rawType": "object",
         "type": "string"
        },
        {
         "name": "gender",
         "rawType": "object",
         "type": "unknown"
        },
        {
         "name": "date_of_birth",
         "rawType": "object",
         "type": "unknown"
        },
        {
         "name": "created_at",
         "rawType": "datetime64[ns]",
         "type": "datetime"
        },
        {
         "name": "updated_at",
         "rawType": "datetime64[ns]",
         "type": "datetime"
        },
        {
         "name": "is_deleted",
         "rawType": "bool",
         "type": "boolean"
        }
       ],
       "ref": "4e9ae754-b722-4f69-bf38-0a73db6f4901",
       "rows": [
        [
         "0",
         "1",
         "alice",
         "alice@example.com",
         "False",
         null,
         null,
         "False",
         null,
         "hash1",
         null,
         null,
         null,
         "active",
         null,
         null,
         "2025-09-28 16:21:09.046775",
         "2025-09-28 16:21:09.046775",
         "False"
        ],
        [
         "1",
         "2",
         "bob",
         "bob@example.com",
         "False",
         null,
         null,
         "False",
         null,
         "hash2",
         null,
         null,
         null,
         "active",
         null,
         null,
         "2025-09-28 16:21:09.046775",
         "2025-09-28 16:21:09.046775",
         "False"
        ],
        [
         "2",
         "3",
         "charlie",
         "charlie@example.com",
         "False",
         null,
         null,
         "False",
         null,
         "hash3",
         null,
         null,
         null,
         "active",
         null,
         null,
         "2025-09-28 16:21:09.046775",
         "2025-09-28 16:21:09.046775",
         "False"
        ]
       ],
       "shape": {
        "columns": 18,
        "rows": 3
       }
      },
      "text/html": [
       "<div>\n",
       "<style scoped>\n",
       "    .dataframe tbody tr th:only-of-type {\n",
       "        vertical-align: middle;\n",
       "    }\n",
       "\n",
       "    .dataframe tbody tr th {\n",
       "        vertical-align: top;\n",
       "    }\n",
       "\n",
       "    .dataframe thead th {\n",
       "        text-align: right;\n",
       "    }\n",
       "</style>\n",
       "<table border=\"1\" class=\"dataframe\">\n",
       "  <thead>\n",
       "    <tr style=\"text-align: right;\">\n",
       "      <th></th>\n",
       "      <th>id</th>\n",
       "      <th>username</th>\n",
       "      <th>email</th>\n",
       "      <th>is_email_verified</th>\n",
       "      <th>email_verified_at</th>\n",
       "      <th>phone_number</th>\n",
       "      <th>is_phone_verified</th>\n",
       "      <th>phone_verified_at</th>\n",
       "      <th>password_hash</th>\n",
       "      <th>role_id</th>\n",
       "      <th>full_name</th>\n",
       "      <th>avatar_url</th>\n",
       "      <th>status</th>\n",
       "      <th>gender</th>\n",
       "      <th>date_of_birth</th>\n",
       "      <th>created_at</th>\n",
       "      <th>updated_at</th>\n",
       "      <th>is_deleted</th>\n",
       "    </tr>\n",
       "  </thead>\n",
       "  <tbody>\n",
       "    <tr>\n",
       "      <th>0</th>\n",
       "      <td>1</td>\n",
       "      <td>alice</td>\n",
       "      <td>alice@example.com</td>\n",
       "      <td>False</td>\n",
       "      <td>None</td>\n",
       "      <td>None</td>\n",
       "      <td>False</td>\n",
       "      <td>None</td>\n",
       "      <td>hash1</td>\n",
       "      <td>None</td>\n",
       "      <td>None</td>\n",
       "      <td>None</td>\n",
       "      <td>active</td>\n",
       "      <td>None</td>\n",
       "      <td>None</td>\n",
       "      <td>2025-09-28 16:21:09.046775</td>\n",
       "      <td>2025-09-28 16:21:09.046775</td>\n",
       "      <td>False</td>\n",
       "    </tr>\n",
       "    <tr>\n",
       "      <th>1</th>\n",
       "      <td>2</td>\n",
       "      <td>bob</td>\n",
       "      <td>bob@example.com</td>\n",
       "      <td>False</td>\n",
       "      <td>None</td>\n",
       "      <td>None</td>\n",
       "      <td>False</td>\n",
       "      <td>None</td>\n",
       "      <td>hash2</td>\n",
       "      <td>None</td>\n",
       "      <td>None</td>\n",
       "      <td>None</td>\n",
       "      <td>active</td>\n",
       "      <td>None</td>\n",
       "      <td>None</td>\n",
       "      <td>2025-09-28 16:21:09.046775</td>\n",
       "      <td>2025-09-28 16:21:09.046775</td>\n",
       "      <td>False</td>\n",
       "    </tr>\n",
       "    <tr>\n",
       "      <th>2</th>\n",
       "      <td>3</td>\n",
       "      <td>charlie</td>\n",
       "      <td>charlie@example.com</td>\n",
       "      <td>False</td>\n",
       "      <td>None</td>\n",
       "      <td>None</td>\n",
       "      <td>False</td>\n",
       "      <td>None</td>\n",
       "      <td>hash3</td>\n",
       "      <td>None</td>\n",
       "      <td>None</td>\n",
       "      <td>None</td>\n",
       "      <td>active</td>\n",
       "      <td>None</td>\n",
       "      <td>None</td>\n",
       "      <td>2025-09-28 16:21:09.046775</td>\n",
       "      <td>2025-09-28 16:21:09.046775</td>\n",
       "      <td>False</td>\n",
       "    </tr>\n",
       "  </tbody>\n",
       "</table>\n",
       "</div>"
      ],
      "text/plain": [
       "   id username                email  is_email_verified email_verified_at  \\\n",
       "0   1    alice    alice@example.com              False              None   \n",
       "1   2      bob      bob@example.com              False              None   \n",
       "2   3  charlie  charlie@example.com              False              None   \n",
       "\n",
       "  phone_number  is_phone_verified phone_verified_at password_hash role_id  \\\n",
       "0         None              False              None         hash1    None   \n",
       "1         None              False              None         hash2    None   \n",
       "2         None              False              None         hash3    None   \n",
       "\n",
       "  full_name avatar_url  status gender date_of_birth  \\\n",
       "0      None       None  active   None          None   \n",
       "1      None       None  active   None          None   \n",
       "2      None       None  active   None          None   \n",
       "\n",
       "                  created_at                 updated_at  is_deleted  \n",
       "0 2025-09-28 16:21:09.046775 2025-09-28 16:21:09.046775       False  \n",
       "1 2025-09-28 16:21:09.046775 2025-09-28 16:21:09.046775       False  \n",
       "2 2025-09-28 16:21:09.046775 2025-09-28 16:21:09.046775       False  "
      ]
     },
     "execution_count": 30,
     "metadata": {},
     "output_type": "execute_result"
    }
   ],
   "source": [
    "cursor.execute(\"\"\"\n",
    "    SELECT *\n",
    "    FROM users\n",
    "\"\"\")\n",
    "records = cursor.fetchall()\n",
    "users = pd.DataFrame(records, columns=[desc[0] for desc in cursor.description])\n",
    "users.head()"
   ]
  },
  {
   "cell_type": "code",
   "execution_count": 28,
   "id": "5578787b",
   "metadata": {},
   "outputs": [],
   "source": [
    "connection.rollback()"
   ]
  },
  {
   "cell_type": "code",
   "execution_count": 29,
   "id": "163cc2b9",
   "metadata": {},
   "outputs": [],
   "source": [
    "cursor.execute(\"\"\"\n",
    "    select *\n",
    "    from restaurants\n",
    "\"\"\")\n",
    "records = cursor.fetchall()\n",
    "restaurants = pd.DataFrame(records, columns=[desc[0] for desc in cursor.description])"
   ]
  },
  {
   "cell_type": "code",
   "execution_count": null,
   "id": "2437c646",
   "metadata": {},
   "outputs": [
    {
     "name": "stdout",
     "output_type": "stream",
     "text": [
      "(Column(name='tablename', type_code=19), Column(name='tableowner', type_code=19))\n"
     ]
    }
   ],
   "source": [
    "\n",
    "all_users_profile = pd.concat"
   ]
  },
  {
   "cell_type": "code",
   "execution_count": null,
   "id": "e52d2b96",
   "metadata": {},
   "outputs": [
    {
     "data": {
      "application/vnd.microsoft.datawrangler.viewer.v0+json": {
       "columns": [
        {
         "name": "index",
         "rawType": "int64",
         "type": "integer"
        },
        {
         "name": "tablename",
         "rawType": "object",
         "type": "string"
        },
        {
         "name": "tableowner",
         "rawType": "object",
         "type": "string"
        }
       ],
       "ref": "3ac6101a-572b-4fbc-85be-49d84127dbb8",
       "rows": [
        [
         "0",
         "bookmarks",
         "postgres"
        ],
        [
         "1",
         "categories",
         "postgres"
        ],
        [
         "2",
         "comments",
         "postgres"
        ],
        [
         "3",
         "conversations",
         "postgres"
        ],
        [
         "4",
         "health_profiles",
         "postgres"
        ]
       ],
       "shape": {
        "columns": 2,
        "rows": 5
       }
      },
      "text/html": [
       "<div>\n",
       "<style scoped>\n",
       "    .dataframe tbody tr th:only-of-type {\n",
       "        vertical-align: middle;\n",
       "    }\n",
       "\n",
       "    .dataframe tbody tr th {\n",
       "        vertical-align: top;\n",
       "    }\n",
       "\n",
       "    .dataframe thead th {\n",
       "        text-align: right;\n",
       "    }\n",
       "</style>\n",
       "<table border=\"1\" class=\"dataframe\">\n",
       "  <thead>\n",
       "    <tr style=\"text-align: right;\">\n",
       "      <th></th>\n",
       "      <th>tablename</th>\n",
       "      <th>tableowner</th>\n",
       "    </tr>\n",
       "  </thead>\n",
       "  <tbody>\n",
       "    <tr>\n",
       "      <th>0</th>\n",
       "      <td>bookmarks</td>\n",
       "      <td>postgres</td>\n",
       "    </tr>\n",
       "    <tr>\n",
       "      <th>1</th>\n",
       "      <td>categories</td>\n",
       "      <td>postgres</td>\n",
       "    </tr>\n",
       "    <tr>\n",
       "      <th>2</th>\n",
       "      <td>comments</td>\n",
       "      <td>postgres</td>\n",
       "    </tr>\n",
       "    <tr>\n",
       "      <th>3</th>\n",
       "      <td>conversations</td>\n",
       "      <td>postgres</td>\n",
       "    </tr>\n",
       "    <tr>\n",
       "      <th>4</th>\n",
       "      <td>health_profiles</td>\n",
       "      <td>postgres</td>\n",
       "    </tr>\n",
       "  </tbody>\n",
       "</table>\n",
       "</div>"
      ],
      "text/plain": [
       "         tablename tableowner\n",
       "0        bookmarks   postgres\n",
       "1       categories   postgres\n",
       "2         comments   postgres\n",
       "3    conversations   postgres\n",
       "4  health_profiles   postgres"
      ]
     },
     "execution_count": 20,
     "metadata": {},
     "output_type": "execute_result"
    }
   ],
   "source": []
  },
  {
   "cell_type": "code",
   "execution_count": null,
   "id": "5330bb9e",
   "metadata": {},
   "outputs": [],
   "source": []
  },
  {
   "cell_type": "code",
   "execution_count": null,
   "id": "2ae887c7",
   "metadata": {},
   "outputs": [],
   "source": []
  },
  {
   "cell_type": "code",
   "execution_count": null,
   "id": "d6a0a874",
   "metadata": {},
   "outputs": [],
   "source": []
  }
 ],
 "metadata": {
  "kernelspec": {
   "display_name": "Python 3",
   "language": "python",
   "name": "python3"
  },
  "language_info": {
   "codemirror_mode": {
    "name": "ipython",
    "version": 3
   },
   "file_extension": ".py",
   "mimetype": "text/x-python",
   "name": "python",
   "nbconvert_exporter": "python",
   "pygments_lexer": "ipython3",
   "version": "3.12.3"
  }
 },
 "nbformat": 4,
 "nbformat_minor": 5
}
